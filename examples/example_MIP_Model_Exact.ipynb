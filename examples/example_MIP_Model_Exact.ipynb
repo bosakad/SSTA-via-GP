{
 "cells": [
  {
   "attachments": {},
   "cell_type": "markdown",
   "id": "9a91e3db",
   "metadata": {},
   "source": [
    "# MIP model example script"
   ]
  },
  {
   "attachments": {},
   "cell_type": "markdown",
   "id": "120030cf",
   "metadata": {},
   "source": [
    "In this notebook, maximum, covolution and ladder of convolutions and maximums can be observed. These version of algorithms are NOT formulated as an optimization problem but rather uses a concrete generated numbers. These examples thus serve as an empiric proof that the methods that use unary encoding are consistent estimators. \n",
    "\n",
    "To see the MIP model that uses optimization variables please see 'example_Optimization.ipynb'."
   ]
  },
  {
   "cell_type": "code",
   "execution_count": 1,
   "id": "72fed00d",
   "metadata": {},
   "outputs": [],
   "source": [
    "import src.utility_tools.histogramGenerator as histogramGenerator\n",
    "import src.timing.infiniteLadder as infiniteLadder \n",
    "import numpy as np\n",
    "from src.timing.ScalingAlgorithms import computeMAPE\n",
    "import matplotlib.pyplot as plt\n",
    "import src.timing.SSTA as SSTA\n",
    "from src.timing.infiniteLadder import putTuplesIntoArray\n",
    "\n",
    "from src.timing.randomVariableHist_Numpy import RandomVariable\n",
    "\n",
    "from src.timing.examples_monteCarlo.infinite_ladder_montecarlo import MonteCarlo_inputs, MonteCarlo_nodes, get_moments_from_simulations\n",
    "\n",
    "\n",
    "from src.utility_tools.node import Node\n",
    "from tabulate import tabulate\n",
    "%load_ext autoreload\n",
    "%autoreload 2\n",
    "%reload_ext autoreload"
   ]
  },
  {
   "cell_type": "markdown",
   "id": "f3848725",
   "metadata": {},
   "source": [
    "### 1. Maximum"
   ]
  },
  {
   "cell_type": "code",
   "execution_count": 52,
   "id": "c6b1eb80",
   "metadata": {},
   "outputs": [],
   "source": [
    "# test max computation\n",
    "\n",
    "def testMax(numberOfBins, numberOfUnaries):\n",
    "\n",
    "    mu1 = 12\n",
    "    sigma1 = 2\n",
    "\n",
    "    mu2 = 6\n",
    "    sigma2 = 3\n",
    "\n",
    "    \n",
    "    numberOfSamples = 20000000\n",
    "    interval = (3, 20)\n",
    "\n",
    "    # DESIRED\n",
    "\n",
    "    rv1 = np.random.normal(mu1, sigma1, numberOfSamples)\n",
    "    rv2 = np.random.normal(mu2, sigma2, numberOfSamples)\n",
    "\n",
    "    max1 = np.maximum(rv1, rv2)\n",
    "    desired = np.array([np.mean(max1), np.std(max1)])\n",
    "\n",
    "\n",
    "    # ACTUAL\n",
    "\n",
    "    # histogram1\n",
    "    h1 = histogramGenerator.get_gauss_bins_UNARY(mu1, sigma1, numberOfBins, numberOfSamples, interval, numberOfUnaries)\n",
    "    h2 = histogramGenerator.get_gauss_bins_UNARY(mu2, sigma2, numberOfBins, numberOfSamples, interval, numberOfUnaries)\n",
    "\n",
    "    max2 = h1.maxOfDistributionsQUAD_FORMULA_UNARY(h2)\n",
    "\n",
    "    actual = np.array([max2.mean, max2.std])\n",
    "\n",
    "        # debug plotting\n",
    "    import matplotlib.pyplot as plt\n",
    "    h1 = histogramGenerator.get_Histogram_from_UNARY(h1)\n",
    "    h2 = histogramGenerator.get_Histogram_from_UNARY(h2)\n",
    "    max2 = histogramGenerator.get_Histogram_from_UNARY(max2)\n",
    "    \n",
    "    _ = plt.hist(max1, bins=numberOfBins, density='PDF', alpha=0.5, color='blue')\n",
    "    plt.hist(max2.edges[:-1], max2.edges, weights=max2.bins, alpha=0.5, color='red')\n",
    "\n",
    "    plt.legend([\"Monte Carlo\", \"Unary encoding\"])\n",
    "    \n",
    "    \n",
    "    return (actual, desired)"
   ]
  },
  {
   "cell_type": "code",
   "execution_count": 53,
   "id": "0000b1ee",
   "metadata": {},
   "outputs": [
    {
     "name": "stdout",
     "output_type": "stream",
     "text": [
      "[12.07121847  1.91840044] [12.07181132  1.95011132]\n",
      "[0.00491104 1.62610574]\n"
     ]
    },
    {
     "data": {
      "image/png": "[encoded data removed]",
      "text/plain": [
       "<Figure size 640x480 with 1 Axes>"
      ]
     },
     "metadata": {},
     "output_type": "display_data"
    }
   ],
   "source": [
    "# test max as wanted\n",
    "\n",
    "numberOfBins = 150\n",
    "numberOfUnaries = 150\n",
    "\n",
    "\n",
    "# plot error\n",
    "actual, desired = testMax(numberOfBins, numberOfUnaries)\n",
    "relativeError = 100 * np.abs((actual - desired) / desired)\n",
    "\n",
    "print(actual, desired)\n",
    "print(relativeError)"
   ]
  },
  {
   "cell_type": "markdown",
   "id": "c7ec4baa",
   "metadata": {},
   "source": [
    "### Convolution"
   ]
  },
  {
   "cell_type": "code",
   "execution_count": 7,
   "id": "f6cfbb5e",
   "metadata": {},
   "outputs": [],
   "source": [
    "def testConvolution(numberOfBins, numberOfUnaries):\n",
    "\n",
    "    mu1 = 7\n",
    "    sigma1 = 2\n",
    "\n",
    "    mu2 = 10\n",
    "    sigma2 = 1\n",
    "\n",
    "    \n",
    "    numberOfSamples = 20000000\n",
    "\n",
    "    interval = (-5, 40)\n",
    "\n",
    "    # DESIRED\n",
    "\n",
    "    rv1 = np.random.normal(mu1, sigma1, numberOfSamples)\n",
    "    rv2 = np.random.normal(mu2, sigma2, numberOfSamples)\n",
    "\n",
    "    max1 = rv1 + rv2\n",
    "    desired = np.array([np.mean(max1), np.std(max1)])\n",
    "\n",
    "\n",
    "    # ACTUAL\n",
    "\n",
    "    # histogram1\n",
    "    h1 = histogramGenerator.get_gauss_bins_UNARY(mu1, sigma1, numberOfBins, numberOfSamples, interval, numberOfUnaries)\n",
    "    h2 = histogramGenerator.get_gauss_bins_UNARY(mu2, sigma2, numberOfBins, numberOfSamples, interval, numberOfUnaries)\n",
    "\n",
    "    \n",
    "    rv1 = histogramGenerator.get_gauss_bins(mu1, sigma1, numberOfBins, numberOfSamples, interval)\n",
    "    rv2 = histogramGenerator.get_gauss_bins(mu2, sigma2, numberOfBins, numberOfSamples, interval)\n",
    "\n",
    "    \n",
    "    max2 = h1.convolutionOfTwoVarsNaiveSAME_UNARY(h2)\n",
    "\n",
    "    actual = np.array([max2.mean, max2.std])\n",
    "\n",
    "    \n",
    "    import matplotlib.pyplot as plt\n",
    "    h1 = histogramGenerator.get_Histogram_from_UNARY(h1)\n",
    "    h2 = histogramGenerator.get_Histogram_from_UNARY(h2)\n",
    "    max2 = histogramGenerator.get_Histogram_from_UNARY(max2)\n",
    "    \n",
    "    plt.hist(max2.edges[:-1], max2.edges, weights=max2.bins)\n",
    "    _ = plt.hist(max1, bins=numberOfBins, density='PDF', alpha=0.7)\n",
    "    \n",
    "    return (actual, desired)"
   ]
  },
  {
   "cell_type": "code",
   "execution_count": 8,
   "id": "0eeef356",
   "metadata": {},
   "outputs": [
    {
     "name": "stdout",
     "output_type": "stream",
     "text": [
      "[17.15285714  2.11639663] [16.99986693  2.23603878]\n",
      "[0.89994948 5.35062969]\n"
     ]
    },
    {
     "data": {
      "image/png": "[encoded data removed]",
      "text/plain": [
       "<Figure size 432x288 with 1 Axes>"
      ]
     },
     "metadata": {
      "needs_background": "light"
     },
     "output_type": "display_data"
    }
   ],
   "source": [
    "# test convolution as wanted\n",
    "\n",
    "numberOfBins = 50\n",
    "numberOfUnaries = 50\n",
    "actual, desired = testConvolution(numberOfBins, numberOfUnaries)\n",
    "\n",
    "\n",
    "# plot error\n",
    "MAPE = 100 * np.abs((actual - desired) / desired)\n",
    "\n",
    "print(actual, desired)\n",
    "print(MAPE)"
   ]
  },
  {
   "cell_type": "markdown",
   "id": "0a9ec11e",
   "metadata": {},
   "source": [
    "### Ladder of maximum and convolutions"
   ]
  },
  {
   "cell_type": "code",
   "execution_count": 9,
   "id": "dc51294e",
   "metadata": {},
   "outputs": [],
   "source": [
    "def LadderNumpy(numberOfBins=100, numberOfUnaries=100, number_of_nodes=1, interval=(-3, 15)):\n",
    "\n",
    "    n_samples = 2000000\n",
    "    seed = 0\n",
    "\n",
    "    gateParams = [0.0, 1.0]\n",
    "\n",
    "    # fix a random seed seed exists\n",
    "    if seed != None:\n",
    "        seed = seed\n",
    "        np.random.seed(seed)\n",
    "\n",
    "        \n",
    "    ####################################\n",
    "    ####### Generate Input data ########\n",
    "    ####################################\n",
    "\n",
    "    # list with inputs' mean values\n",
    "    input_means = [np.random.randint(20, 70) / 10 for _ in range(number_of_nodes + 1)]\n",
    "    # list with inputs' stds\n",
    "    input_stds = [np.random.randint(20, 130) / 100 for _ in range(number_of_nodes + 1)]\n",
    "\n",
    "#     input_means = [7, 10]\n",
    "#     input_stds = [2, 1]\n",
    "    \n",
    "    # CVXPY\n",
    "\n",
    "    constraints = []\n",
    "\n",
    "    # generate inputs\n",
    "    startingNodes = []\n",
    "    for i in range(0, number_of_nodes + 1):\n",
    "        g = histogramGenerator.get_gauss_bins_UNARY(input_means[i], input_stds[i], numberOfBins, n_samples,\n",
    "                                                    interval, numberOfUnaries)\n",
    "\n",
    "        node = Node(g)\n",
    "        startingNodes.append(node)\n",
    "\n",
    "        # generetate nodes\n",
    "    generatedNodes = []\n",
    "    for i in range(0, number_of_nodes):\n",
    "        g = histogramGenerator.get_gauss_bins_UNARY(gateParams[0], gateParams[1], numberOfBins, n_samples, interval,\n",
    "                                                    numberOfUnaries)\n",
    "\n",
    "        node = Node(g)\n",
    "        generatedNodes.append(node)\n",
    "\n",
    "    # set circuit design\n",
    "\n",
    "    # start\n",
    "    startingNodes[0].setNextNodes([generatedNodes[0]])\n",
    "\n",
    "    # upper part\n",
    "    for i in range(1, number_of_nodes + 1):\n",
    "        start = startingNodes[i]\n",
    "        start.setNextNodes([generatedNodes[i - 1]])\n",
    "\n",
    "        # lower part\n",
    "    for i in range(0, number_of_nodes - 1):\n",
    "        node = generatedNodes[i]\n",
    "        node.setNextNodes([generatedNodes[i + 1]])\n",
    "\n",
    "    delays = SSTA.calculateCircuitDelay(startingNodes, cvxpy=False, unary=True)\n",
    "\n",
    "    delays = delays[number_of_nodes + 1:]\n",
    "\n",
    "    rvs = []\n",
    "\n",
    "    for gate in range(0, number_of_nodes):  # construct RVs\n",
    "\n",
    "        finalBins = np.zeros((numberOfBins, numberOfUnaries))\n",
    "        for bin in range(0, numberOfBins):\n",
    "            for unary in range(0, numberOfUnaries):\n",
    "                finalBins[bin, unary] = ((delays[gate].bins)[bin])[unary]\n",
    "\n",
    "        rvs.append(RandomVariable(finalBins, generatedNodes[0].randVar.edges, unary=True))\n",
    "\n",
    "    # simulate inputs\n",
    "    nodes_simulation = [0 for _ in range(number_of_nodes)]\n",
    "    inputs_simulation = MonteCarlo_inputs(input_means, input_stds, n_samples, 'Normal')\n",
    "\n",
    "    # traverse the circuit\n",
    "    nodes_simulation[0] = MonteCarlo_nodes(inputs_simulation[0], inputs_simulation[1], gateParams, n_samples)\n",
    "    for i in range(1, number_of_nodes):\n",
    "        nodes_simulation[i] = MonteCarlo_nodes(nodes_simulation[i - 1], inputs_simulation[i + 1], gateParams,\n",
    "                                               n_samples)\n",
    "\n",
    "    desired = get_moments_from_simulations(nodes_simulation)\n",
    "    import matplotlib.pyplot as plt\n",
    "    max2 = histogramGenerator.get_Histogram_from_UNARY(rvs[-1])\n",
    "    \n",
    "    plt.hist(max2.edges[:-1], max2.edges, weights=max2.bins)\n",
    "    _ = plt.hist(nodes_simulation[-1], bins=numberOfBins, density='PDF', alpha=0.7)\n",
    "        \n",
    "    return np.array([rvs[-1].mean, rvs[-1].std]), np.array(desired[0])\n"
   ]
  },
  {
   "cell_type": "code",
   "execution_count": 10,
   "id": "47768cc1",
   "metadata": {},
   "outputs": [
    {
     "name": "stdout",
     "output_type": "stream",
     "text": [
      "[6.75485108 1.52727709] [7.05571058 1.23373662]\n",
      "[ 4.26405665 23.79279896]\n"
     ]
    },
    {
     "data": {
      "image/png": "[encoded data removed]",
      "text/plain": [
       "<Figure size 432x288 with 1 Axes>"
      ]
     },
     "metadata": {
      "needs_background": "light"
     },
     "output_type": "display_data"
    }
   ],
   "source": [
    "numberOfNodes = 2\n",
    "\n",
    "numberOfBins = 80\n",
    "numberOfUnaries = 80\n",
    "\n",
    "interval = (-5, 20)\n",
    "\n",
    "\n",
    "\n",
    "# plot error\n",
    "actual, desired = LadderNumpy(numberOfBins, numberOfUnaries, numberOfNodes, interval=interval)\n",
    "MAPE = 100 * np.abs((actual - desired) / desired)\n",
    "\n",
    "print(actual, desired)\n",
    "print(MAPE)"
   ]
  },
  {
   "cell_type": "code",
   "execution_count": null,
   "id": "4bfe318d",
   "metadata": {},
   "outputs": [],
   "source": []
  }
 ],
 "metadata": {
  "kernelspec": {
   "display_name": "Python 3",
   "language": "python",
   "name": "python3"
  },
  "language_info": {
   "codemirror_mode": {
    "name": "ipython",
    "version": 3
   },
   "file_extension": ".py",
   "mimetype": "text/x-python",
   "name": "python",
   "nbconvert_exporter": "python",
   "pygments_lexer": "ipython3",
   "version": "3.10.9"
  },
  "vscode": {
   "interpreter": {
    "hash": "e7370f93d1d0cde622a1f8e1c04877d8463912d04d973331ad4851f04de6915a"
   }
  }
 },
 "nbformat": 4,
 "nbformat_minor": 5
}
